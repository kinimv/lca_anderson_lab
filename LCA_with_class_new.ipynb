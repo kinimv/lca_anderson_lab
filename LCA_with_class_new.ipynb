{
 "cells": [
  {
   "cell_type": "code",
   "execution_count": 1,
   "metadata": {},
   "outputs": [],
   "source": [
    "class tax_list:\n",
    "    # This comprises of two lists of all tax ids (along with parent) and tax id names\n",
    "    # These are the linked lists \n",
    "    tax_ids = []\n",
    "    parent_tax_ids = []\n",
    "\n",
    "    tax_ids_names = []\n",
    "    names_list = []\n",
    "\n",
    "    def __init__(self, tax_id_file, tax_names_file):\n",
    "        # Initializing and reading files\n",
    "        f=open(tax_id_file,'r')\n",
    "        lines=f.readlines()\n",
    "        for x in lines:\n",
    "            self.tax_ids.append(int(x.split('\\t|')[0]))\n",
    "            self.parent_tax_ids.append(int(x.split('\\t|\\t')[1]))\n",
    "        f.close()\n",
    "\n",
    "        f=open(tax_names_file,'r')\n",
    "        lines=f.readlines()\n",
    "        for x in lines:\n",
    "            self.tax_ids_names.append(int(x.split('\\t|')[0]))\n",
    "            self.names_list.append(x.split('\\t|\\t')[1])\n",
    "        f.close()\n",
    "        \n",
    "    def get_tax_id(self,name):\n",
    "        # Returns a tax id for a given name. It uses linked lists of all tax ids and names\n",
    "        if name not in self.names_list:\n",
    "            return \"error\"\n",
    "        else:\n",
    "            i = self.names_list.index(name)\n",
    "            return int(self.tax_ids_names[i])\n",
    "\n",
    "    def get_tax_name(self,id):\n",
    "        # Returns a tax name for a given tax id. It uses linked lists of all tax ids and names\n",
    "        if id not in self.tax_ids_names:\n",
    "            return \"error\"\n",
    "        else:\n",
    "            return self.names_list[self.tax_ids_names.index(id)]\n",
    "        \n",
    "    def get_anc_tree(self,name):\n",
    "        # This builds and returns a tree (list) of all ancestors upto root\n",
    "        if name not in self.names_list:\n",
    "            return \"error\"\n",
    "        else:\n",
    "            anc = []\n",
    "            i = self.names_list.index(name)\n",
    "            id = int(self.tax_ids_names[i])\n",
    "            anc.append(id)\n",
    "            \n",
    "            p = id\n",
    "            while p != 1:\n",
    "                i = self.tax_ids.index(p)\n",
    "                p = self.parent_tax_ids[i]\n",
    "                anc.append(p)\n",
    "        return anc        \n",
    "       "
   ]
  },
  {
   "cell_type": "code",
   "execution_count": 2,
   "metadata": {},
   "outputs": [
    {
     "name": "stdout",
     "output_type": "stream",
     "text": [
      "This program shows you the least common ancestor of two organisms\n",
      "Loading databases...\n"
     ]
    }
   ],
   "source": [
    "print(\"This program shows you the least common ancestor of two organisms\")\n",
    "#Build the taxnomy database in memory as an object - taxdb\n",
    "print(\"Loading databases...\")\n",
    "taxdb = tax_list('nodes.dmp','names.dmp')"
   ]
  },
  {
   "cell_type": "code",
   "execution_count": 3,
   "metadata": {},
   "outputs": [
    {
     "name": "stdout",
     "output_type": "stream",
     "text": [
      "Enter name of the first organism, Enter 'exit' to exit the program: H1N1 swine influenza virus\n",
      "Enter name of the second organism, Enter 'exit' to exit the program: Middle East respiratory syndrome-related coronavirus\n"
     ]
    }
   ],
   "source": [
    "#Input of organism 1\n",
    "while True:\n",
    "    org1 = str(input(\"Enter name of the first organism, Enter 'exit' to exit the program: \")) #Eg. H1N1 swine influenza virus\n",
    "    if org1 == \"exit\":\n",
    "        exit()\n",
    "    #Search input in the taxlist \n",
    "    if taxdb.get_tax_id(org1) == \"error\":\n",
    "        print('Organism name: ', org1, ' not found in NIH database. Please try again')\n",
    "    else:\n",
    "        break\n",
    "    pass\n",
    "\n",
    "#Input of organism 2\n",
    "while True:\n",
    "    org2 = str(input(\"Enter name of the second organism, Enter 'exit' to exit the program: \")) #Eg. Middle East respiratory syndrome-related coronavirus\n",
    "    if org2 == \"exit\":\n",
    "        exit()\n",
    "    #Search input in the taxlist \n",
    "    if taxdb.get_tax_id(org2) == \"error\":\n",
    "        print('Organism name: ', org2, ' not found in NIH database. Please try again')\n",
    "    else:\n",
    "        break\n",
    "    pass"
   ]
  },
  {
   "cell_type": "code",
   "execution_count": 4,
   "metadata": {},
   "outputs": [
    {
     "name": "stdout",
     "output_type": "stream",
     "text": [
      "Least Common Ancestor is:  Orthornavirae\n",
      "\n",
      "Ancestor Tree:\n",
      "                       2732396 Orthornavirae\n",
      "2497569 Negarnaviricota                            2732408 Pisuviricota\n",
      "2497571 Polyploviricotina                          2732506 Pisoniviricetes\n",
      "2497577 Insthoviricetes                            76804 Nidovirales\n",
      "2499411 Articulavirales                            2499399 Cornidovirineae\n",
      "11308 Orthomyxoviridae                             11118 Coronaviridae\n",
      "197911 Alphainfluenzavirus                         2501931 Orthocoronavirinae\n",
      "11320 FLUAV                                        694002 Betacoronavirus\n",
      "114727 H1N1                                        2509494 Merbecovirus\n",
      "36420 H1N1 swine influenza virus                   1335626 MERS\n"
     ]
    }
   ],
   "source": [
    "# Building the ancestor trees for the two organisms\n",
    "anc1_tree = taxdb.get_anc_tree(org1)\n",
    "anc2_tree = taxdb.get_anc_tree(org2)\n",
    "\n",
    "# Create a list the shows the path down the tree by reversing the chains\n",
    "org1_tree, org2_tree = anc1_tree[::-1], anc2_tree[::-1]\n",
    "\n",
    "# Finds the common element (ancestor) by intersecting two ancestor lists \n",
    "anc = list(set(org1_tree).intersection(set(org2_tree)))\n",
    "lca_ind = len(anc) - 1\n",
    "lca = org1_tree[len(anc) - 1]\n",
    "\n",
    "print (\"Least Common Ancestor is: \", taxdb.get_tax_name(org1_tree[lca_ind]))\n",
    "\n",
    "#Prints the links to the common ancestor with nicely formatted columns\n",
    "print()\n",
    "print(\"Ancestor Tree:\")\n",
    "print(\"%30s %s\" % (org1_tree[lca_ind],taxdb.get_tax_name(org1_tree[lca_ind])))\n",
    "for i in range(lca_ind+1,min(len(org1_tree),len(org2_tree))):\n",
    "    print(\"%-50s %s\" % ((str(org1_tree[i]) + \" \" + taxdb.get_tax_name(org1_tree[i])),\n",
    "                        (str(org2_tree[i]) + \" \" + taxdb.get_tax_name(org2_tree[i]))))\n",
    "if len(org1_tree) > len(org2_tree):\n",
    "    for i in range(len(org2_tree),len(org1_tree)):\n",
    "        print((str(org1_tree[i]) + \" \" + taxdb.get_tax_name(org1_tree[i])))\n",
    "if len(org2_tree) > len(org1_tree):\n",
    "    for i in range(len(org1_tree),len(org2_tree)):\n",
    "        print(\"%-50s %s\" % (\" \", (str(org2_tree[i]) + \" \" + taxdb.get_tax_name(org2_tree[i]))))\n",
    "                                  "
   ]
  }
 ],
 "metadata": {
  "kernelspec": {
   "display_name": "Python 3",
   "language": "python",
   "name": "python3"
  },
  "language_info": {
   "codemirror_mode": {
    "name": "ipython",
    "version": 3
   },
   "file_extension": ".py",
   "mimetype": "text/x-python",
   "name": "python",
   "nbconvert_exporter": "python",
   "pygments_lexer": "ipython3",
   "version": "3.7.6"
  }
 },
 "nbformat": 4,
 "nbformat_minor": 4
}
