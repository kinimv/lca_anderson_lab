{
 "cells": [
  {
   "cell_type": "code",
   "execution_count": 10,
   "metadata": {},
   "outputs": [],
   "source": [
    "import pandas as pd"
   ]
  },
  {
   "cell_type": "code",
   "execution_count": 11,
   "metadata": {},
   "outputs": [],
   "source": [
    "#Function that taken in input of tax_ids as a chain, and appends the parent_tax_id of the last element to that list\n",
    "def parent_append(chain):\n",
    "    if chain[-1] == 1:\n",
    "        return chain\n",
    "    else:\n",
    "        temp = nodes.loc[nodes['tax_id'] == chain[-1]]\n",
    "        chain.append(temp.iloc[0,1])\n",
    "        return chain"
   ]
  },
  {
   "cell_type": "code",
   "execution_count": 12,
   "metadata": {},
   "outputs": [],
   "source": [
    "#Nodes and names in same directory as python file\n",
    "#https://ftp.ncbi.nih.gov/pub/taxonomy/taxdump.tar.gz\n",
    "#Specifying the format nodes.dmp is in\n",
    "print(\"Loading databases...\")\n",
    "nodes = pd.read_table('nodes.dmp', sep=\"\\\\t\\|\\\\t\", header=None,engine='python')"
   ]
  },
  {
   "cell_type": "code",
   "execution_count": 14,
   "metadata": {},
   "outputs": [],
   "source": [
    "#Cleaning the nodes table\n",
    "ignorecols = [2,3,4,5,6,7,8,9,10,11,12]\n",
    "nodes.drop(nodes.columns[ignorecols],axis=1,inplace=True)\n",
    "nodes.columns = ['tax_id', 'parent_tax_id'] #placing header and naming columns to tax_id and parent_id"
   ]
  },
  {
   "cell_type": "code",
   "execution_count": 16,
   "metadata": {},
   "outputs": [],
   "source": [
    "#Specifying the format names.dmp is in\n",
    "names = pd.read_table('names.dmp', sep=\"\\\\t\\|\\\\t\", header=None,engine='python')"
   ]
  },
  {
   "cell_type": "code",
   "execution_count": 17,
   "metadata": {},
   "outputs": [],
   "source": [
    "#Cleaning the names table\n",
    "ignorecols = [2,3]\n",
    "names.drop(names.columns[ignorecols],axis=1,inplace=True)\n",
    "names.columns = ['tax_id', 'name_txt'] #placing header and naming columns to tax_id and name_txt"
   ]
  },
  {
   "cell_type": "code",
   "execution_count": 19,
   "metadata": {},
   "outputs": [
    {
     "name": "stdout",
     "output_type": "stream",
     "text": [
      "This program shows you the least common ancestor of two organisms\n",
      "Enter name of the first organism: blrhh\n",
      "Organism name not found in NIH database: Please try again\n",
      "Enter name of the first organism: H1N1 swine influenza virus\n"
     ]
    }
   ],
   "source": [
    "print(\"This program shows you the least common ancestor of two organisms\")\n",
    "#Input of organism 1\n",
    "while True:\n",
    "    org1 = str(input(\"Enter name of the first organism: \")) #Eg. H1N1 swine influenza virus\n",
    "    org1row = names[names['name_txt'].str.contains(org1, na = False, regex=False)] #searches input on the names_txt column\n",
    "    if org1row.empty:\n",
    "        print('Organism name not found in NIH database: Please try again')\n",
    "    else:\n",
    "        break\n",
    "    pass"
   ]
  },
  {
   "cell_type": "code",
   "execution_count": 22,
   "metadata": {},
   "outputs": [
    {
     "name": "stdout",
     "output_type": "stream",
     "text": [
      "Enter name of the first organism: Middle East respiratory syndrome-related coronavirus\n"
     ]
    }
   ],
   "source": [
    "#Input of organism 2\n",
    "while True:\n",
    "    org2 = str(input(\"Enter name of the second organism: \")) #Eg. Middle East respiratory syndrome-related coronavirus\n",
    "    org2row = names[names['name_txt'].str.contains(org2, na = False, regex=False)] #searches input on the names_txt column\n",
    "    if org2row.empty:\n",
    "        print('Organism name not found in NIH database: Please try again')\n",
    "    else:\n",
    "        break\n",
    "    pass"
   ]
  },
  {
   "cell_type": "code",
   "execution_count": 23,
   "metadata": {},
   "outputs": [],
   "source": [
    "#Defaulting to the first result if there are multiple. Can be refined\n",
    "org1_tax_id = org1row.iloc[0,0]\n",
    "org2_tax_id = org2row.iloc[0,0]"
   ]
  },
  {
   "cell_type": "code",
   "execution_count": 28,
   "metadata": {},
   "outputs": [
    {
     "name": "stdout",
     "output_type": "stream",
     "text": [
      "Found an ancestor with tax_id: 2732396\n",
      "The Least common ancestor is:  Orthornavirae\n",
      "9  levels of the tree traversed\n"
     ]
    }
   ],
   "source": [
    "q = True\n",
    "while q:\n",
    "    org1_chain, org2_chain = [org1_tax_id], [org2_tax_id] #initalizing a chain with the tax_id of each organism\n",
    "    if org1_chain[-1] == org2_chain[-1]: #if both organisms have same tax_id\n",
    "        print('The Least Common Ancestor is: ', names.iloc[org1_chain[-1],1])\n",
    "    else:\n",
    "        i = 0 #Count of how many levels of the taxonomy tree traveresed\n",
    "        while True:\n",
    "            org1_chain = parent_append(org1_chain) #calls function to add parent_tax_id\n",
    "            org2_chain = parent_append(org2_chain)\n",
    "            common_ancestor = list(set(org1_chain).intersection(org2_chain)) #common ancestor is a tax_id present in both lists\n",
    "            if common_ancestor != []:\n",
    "                print(\"Found an ancestor with tax_id:\", common_ancestor[-1])\n",
    "                ancestor_row = names.loc[names['tax_id'] == common_ancestor[0]] #take common ancestor row from the .dmp file\n",
    "                if ancestor_row.iloc[0,1] == 'all':\n",
    "                    print ('It is disjoint. The Least common ancestor is: all/root')\n",
    "                else:\n",
    "                    print('The Least common ancestor is: ', ancestor_row.iloc[0,1]) #defaults to first result. Can include alternate names if needed\n",
    "                print(i+1, \" levels of the tree traversed\")\n",
    "                break\n",
    "            else:\n",
    "                i += 1\n",
    "                continue\n",
    "\n",
    "    q = False\n",
    "    "
   ]
  },
  {
   "cell_type": "code",
   "execution_count": 29,
   "metadata": {},
   "outputs": [],
   "source": [
    "#Create a list the shows the path down the tree by reversing the chains\n",
    "org1_tree, org2_tree = org1_chain[::-1], org2_chain[::-1]"
   ]
  },
  {
   "cell_type": "code",
   "execution_count": 30,
   "metadata": {},
   "outputs": [
    {
     "name": "stdout",
     "output_type": "stream",
     "text": [
      "                       2732396 Orthornavirae\n",
      "2497569 Negarnaviricota                  2732408 Pisuviricota\n",
      "2497571 Polyploviricotina                2732506 Pisoniviricetes\n",
      "2497577 Insthoviricetes                  76804 Nidovirales\n",
      "2499411 Articulavirales                  2499399 Cornidovirineae\n",
      "11308 Orthomyxoviridae                   11118 Coronaviridae\n",
      "197911 Alphainfluenzavirus               2501931 Orthocoronavirinae\n",
      "11320 FLUAV                              694002 Betacoronavirus\n",
      "114727 H1N1                              2509494 Merbecovirus\n",
      "36420 H1N1 swine influenza virus         1335626 MERS\n"
     ]
    }
   ],
   "source": [
    "#Prints the links to the common ancestor with nicely formatted columns\n",
    "print(\"Ancestor Tree:\")\n",
    "print(\"%30s %s\" % (org1_tree[0],names.loc[names.loc[names['tax_id'] == org1_tree[0]].index[0],'name_txt']))\n",
    "for i in range(1,min(len(org1_tree),len(org2_tree))):\n",
    "    print(\"%-40s %s\" % ((str(org1_tree[i]) + \" \" + names.loc[names.loc[names['tax_id'] == org1_tree[i]].index[0],'name_txt']),\n",
    "                        (str(org2_tree[i]) + \" \" + names.loc[names.loc[names['tax_id'] == org2_tree[i]].index[0],'name_txt'])))\n",
    "if len(org1_tree) > len(org2_tree):\n",
    "    for i in range(len(org2_tree),len(org1_tree)):\n",
    "        print((str(org1_tree[i]) + \" \" +\n",
    "                            names.loc[names.loc[names['tax_id'] == org1_tree[i]].index[0],'name_txt']))\n",
    "if len(org2_tree) > len(org1_tree):\n",
    "    for i in range(len(org1_tree),len(org2_tree)):\n",
    "        print(\"%-40s %s\" % (\" \", (str(org2_tree[i]) + \" \" +\n",
    "                                  names.loc[names.loc[names['tax_id'] == org2_tree[i]].index[0],'name_txt'])))"
   ]
  }
 ],
 "metadata": {
  "kernelspec": {
   "display_name": "Python 3",
   "language": "python",
   "name": "python3"
  },
  "language_info": {
   "codemirror_mode": {
    "name": "ipython",
    "version": 3
   },
   "file_extension": ".py",
   "mimetype": "text/x-python",
   "name": "python",
   "nbconvert_exporter": "python",
   "pygments_lexer": "ipython3",
   "version": "3.7.6"
  }
 },
 "nbformat": 4,
 "nbformat_minor": 4
}
